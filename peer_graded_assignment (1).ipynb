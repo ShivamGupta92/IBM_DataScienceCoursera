{
  "nbformat": 4,
  "nbformat_minor": 0,
  "metadata": {
    "colab": {
      "provenance": []
    },
    "kernelspec": {
      "name": "python3",
      "display_name": "Python 3"
    },
    "language_info": {
      "name": "python"
    }
  },
  "cells": [
    {
      "cell_type": "markdown",
      "source": [
        "Data Science Notebook on credit card fraud"
      ],
      "metadata": {
        "id": "NEfDFNXH-CRp"
      }
    },
    {
      "cell_type": "markdown",
      "source": [
        "Objectives:"
      ],
      "metadata": {
        "id": "7Ak_75Uf-I1w"
      }
    },
    {
      "cell_type": "code",
      "execution_count": 1,
      "metadata": {
        "colab": {
          "base_uri": "https://localhost:8080/"
        },
        "id": "mg9kiwjM9tHd",
        "outputId": "6c16a21c-4cff-4cbf-a4aa-3588895d68fc"
      },
      "outputs": [
        {
          "output_type": "stream",
          "name": "stdout",
          "text": [
            "List popular languages that Data Scientists use.\n",
            "List commonly used libraries used by Data Scientists.\n",
            "Comment on Data Science tools.\n"
          ]
        }
      ],
      "source": [
        "print('''List popular languages that Data Scientists use.\n",
        "List commonly used libraries used by Data Scientists.\n",
        "Comment on Data Science tools.''')"
      ]
    },
    {
      "cell_type": "markdown",
      "source": [
        "Some of the popular languages that Data Scientists use are:"
      ],
      "metadata": {
        "id": "P2TWOGHr95BF"
      }
    },
    {
      "cell_type": "code",
      "source": [
        "print('''Python.\n",
        "R.\n",
        "SQL.\n",
        "Java.\n",
        "Julia.\n",
        "Scala.\n",
        "C/C++.\n",
        "JavaScript.''')"
      ],
      "metadata": {
        "colab": {
          "base_uri": "https://localhost:8080/"
        },
        "id": "Z4M2i3QA-Xn0",
        "outputId": "8ccb14bb-3c5d-470d-8cb9-683ee6cf9666"
      },
      "execution_count": 2,
      "outputs": [
        {
          "output_type": "stream",
          "name": "stdout",
          "text": [
            "Python.\n",
            "R.\n",
            "SQL.\n",
            "Java.\n",
            "Julia.\n",
            "Scala.\n",
            "C/C++.\n",
            "JavaScript.\n"
          ]
        }
      ]
    },
    {
      "cell_type": "markdown",
      "source": [
        "Some of the commonly used libraries used by Data Scientists include:\n"
      ],
      "metadata": {
        "id": "Y9ZybQPl-gZa"
      }
    },
    {
      "cell_type": "code",
      "source": [
        "print('''TensorFlow.\n",
        "NumPy.\n",
        "SciPy.\n",
        "Pandas.\n",
        "Matplotlib.\n",
        "Keras.\n",
        "SciKit-Learn.\n",
        "PyTorch.\n",
        "Scrapy.\n",
        "BeautifulSoup.\n",
        "LightGBM.\n",
        "ELI5.\n",
        "Theano.\n",
        "NuPIC.\n",
        "Ramp.\n",
        "Pipenv.\n",
        "Bob.\n",
        "PyBrain.\n",
        "Caffe2.\n",
        "Chainer.''')"
      ],
      "metadata": {
        "colab": {
          "base_uri": "https://localhost:8080/"
        },
        "id": "XQIuD9G1-hx7",
        "outputId": "e4f2980e-64c1-4e54-cadf-18611ed91ff7"
      },
      "execution_count": 3,
      "outputs": [
        {
          "output_type": "stream",
          "name": "stdout",
          "text": [
            "TensorFlow.\n",
            "NumPy.\n",
            "SciPy.\n",
            "Pandas.\n",
            "Matplotlib.\n",
            "Keras.\n",
            "SciKit-Learn.\n",
            "PyTorch.\n",
            "Scrapy.\n",
            "BeautifulSoup.\n",
            "LightGBM.\n",
            "ELI5.\n",
            "Theano.\n",
            "NuPIC.\n",
            "Ramp.\n",
            "Pipenv.\n",
            "Bob.\n",
            "PyBrain.\n",
            "Caffe2.\n",
            "Chainer.\n"
          ]
        }
      ]
    },
    {
      "cell_type": "markdown",
      "source": [
        "Data Science Tools:"
      ],
      "metadata": {
        "id": "4wtdcL_V-gWJ"
      }
    },
    {
      "cell_type": "code",
      "source": [
        "print('''SAS. It is one of those data science tools which are specifically designed for statistical operation\n",
        "Apache Spark\n",
        "BigML''')"
      ],
      "metadata": {
        "colab": {
          "base_uri": "https://localhost:8080/"
        },
        "id": "V6t5M19u-dlr",
        "outputId": "9fca8d76-dc53-43d4-ecab-1ac0196a5420"
      },
      "execution_count": 5,
      "outputs": [
        {
          "output_type": "stream",
          "name": "stdout",
          "text": [
            "SAS. It is one of those data science tools which are specifically designed for statistical operation\t\t\n",
            "Apache Spark\t\t\n",
            "BigML\n"
          ]
        }
      ]
    },
    {
      "cell_type": "markdown",
      "source": [
        "evaluating arithmetic expressions"
      ],
      "metadata": {
        "id": "_1Nvsonb-0Ld"
      }
    },
    {
      "cell_type": "code",
      "source": [
        "code = compile(\"5 + 4\", \"<string>\", \"eval\")\n",
        "eval(code)"
      ],
      "metadata": {
        "colab": {
          "base_uri": "https://localhost:8080/"
        },
        "id": "G26ZrYC5-si4",
        "outputId": "cc9941bc-01f2-479a-a55f-6c60f4bb8b3a"
      },
      "execution_count": 6,
      "outputs": [
        {
          "output_type": "execute_result",
          "data": {
            "text/plain": [
              "9"
            ]
          },
          "metadata": {},
          "execution_count": 6
        }
      ]
    },
    {
      "cell_type": "code",
      "source": [
        "code1 = compile(\"(5 + 7) * 2\", \"<string>\", \"eval\")\n",
        "eval(code1)"
      ],
      "metadata": {
        "colab": {
          "base_uri": "https://localhost:8080/"
        },
        "id": "UnIiJTjo-4Bg",
        "outputId": "3bd0bf5e-a15a-4f54-9484-acd8d2543e5c"
      },
      "execution_count": 7,
      "outputs": [
        {
          "output_type": "execute_result",
          "data": {
            "text/plain": [
              "24"
            ]
          },
          "metadata": {},
          "execution_count": 7
        }
      ]
    },
    {
      "cell_type": "code",
      "source": [
        "import math\n",
        "# Volume of a sphere\n",
        "code2 = compile(\"4 / 3 * math.pi * math.pow(25, 3)\", \"<string>\", \"eval\")\n",
        "eval(code2)"
      ],
      "metadata": {
        "colab": {
          "base_uri": "https://localhost:8080/"
        },
        "id": "5CC9ZYDX-6Kf",
        "outputId": "daf2cc87-550e-4866-f3e5-777b27317b9a"
      },
      "execution_count": 8,
      "outputs": [
        {
          "output_type": "execute_result",
          "data": {
            "text/plain": [
              "65449.84694978735"
            ]
          },
          "metadata": {},
          "execution_count": 8
        }
      ]
    },
    {
      "cell_type": "markdown",
      "source": [
        "multiply and add numbers."
      ],
      "metadata": {
        "id": "zmIis093--Kx"
      }
    },
    {
      "cell_type": "code",
      "source": [
        "(3*4)+5"
      ],
      "metadata": {
        "colab": {
          "base_uri": "https://localhost:8080/"
        },
        "id": "x1tl-7t_-8CD",
        "outputId": "09659e0f-0ed3-4a05-dd86-78de9c78cb82"
      },
      "execution_count": 9,
      "outputs": [
        {
          "output_type": "execute_result",
          "data": {
            "text/plain": [
              "17"
            ]
          },
          "metadata": {},
          "execution_count": 9
        }
      ]
    },
    {
      "cell_type": "markdown",
      "source": [
        "convert minutes to hours"
      ],
      "metadata": {
        "id": "N-QnmLsX_Boo"
      }
    },
    {
      "cell_type": "code",
      "source": [
        "days = 0\n",
        "hours = 0\n",
        "mins = 0\n",
        "\n",
        "time = 200\n",
        "#days = time / 1440\n",
        "leftover_minutes = time % 1440\n",
        "hours = leftover_minutes / 60\n",
        "#mins = time - (days*1440) - (hours*60)\n",
        "print(str(days) + \" days, \" + str(hours) + \" hours, \" + str(mins) +  \" mins. \")"
      ],
      "metadata": {
        "colab": {
          "base_uri": "https://localhost:8080/"
        },
        "id": "yDG-5Qud-_6j",
        "outputId": "89366d9e-2f1b-48ba-da56-4d845784ac79"
      },
      "execution_count": 10,
      "outputs": [
        {
          "output_type": "stream",
          "name": "stdout",
          "text": [
            "0 days, 3.3333333333333335 hours, 0 mins. \n"
          ]
        }
      ]
    },
    {
      "cell_type": "markdown",
      "source": [
        "\n",
        "\n",
        "*  List popular languages that Data Scientists use.\n",
        "\n",
        "*   List commonly used libraries used by Data Scientists.\n",
        "*   Comment on Data Science tools.\n",
        "\n",
        "\n",
        "\n",
        "\n",
        "\n"
      ],
      "metadata": {
        "id": "Z-xNimyy_HjB"
      }
    },
    {
      "cell_type": "markdown",
      "source": [
        "AUTHOR"
      ],
      "metadata": {
        "id": "QB7AcKm1AlsO"
      }
    },
    {
      "cell_type": "code",
      "source": [
        "print('SHIVMA GUPTA')"
      ],
      "metadata": {
        "colab": {
          "base_uri": "https://localhost:8080/"
        },
        "id": "GfwhUXbSAhl0",
        "outputId": "5019911b-343f-4eec-eca0-4b9b93390809"
      },
      "execution_count": 13,
      "outputs": [
        {
          "output_type": "stream",
          "name": "stdout",
          "text": [
            "SHIVMA GUPTA\n"
          ]
        }
      ]
    },
    {
      "cell_type": "code",
      "source": [],
      "metadata": {
        "id": "oDLvvY0mAo_s"
      },
      "execution_count": null,
      "outputs": []
    }
  ]
}